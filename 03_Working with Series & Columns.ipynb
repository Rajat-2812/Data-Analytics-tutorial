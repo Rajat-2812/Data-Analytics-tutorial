{
 "cells": [
  {
   "cell_type": "code",
   "execution_count": 1,
   "id": "1b3f3199",
   "metadata": {},
   "outputs": [],
   "source": [
    "import pandas as pd\n",
    "houses = pd.read_csv(\"data/kc_house_data.csv\")\n",
    "titanic = pd.read_csv(\"data/titanic.csv\")\n",
    "netflix = pd.read_csv(\"data/netflix_titles.csv\", sep=\"|\", index_col=0)"
   ]
  },
  {
   "cell_type": "code",
   "execution_count": 5,
   "id": "29872372",
   "metadata": {},
   "outputs": [
    {
     "data": {
      "text/html": [
       "<div>\n",
       "<style scoped>\n",
       "    .dataframe tbody tr th:only-of-type {\n",
       "        vertical-align: middle;\n",
       "    }\n",
       "\n",
       "    .dataframe tbody tr th {\n",
       "        vertical-align: top;\n",
       "    }\n",
       "\n",
       "    .dataframe thead th {\n",
       "        text-align: right;\n",
       "    }\n",
       "</style>\n",
       "<table border=\"1\" class=\"dataframe\">\n",
       "  <thead>\n",
       "    <tr style=\"text-align: right;\">\n",
       "      <th></th>\n",
       "      <th>pclass</th>\n",
       "      <th>survived</th>\n",
       "      <th>name</th>\n",
       "      <th>sex</th>\n",
       "      <th>age</th>\n",
       "      <th>sibsp</th>\n",
       "      <th>parch</th>\n",
       "      <th>ticket</th>\n",
       "      <th>fare</th>\n",
       "      <th>cabin</th>\n",
       "      <th>embarked</th>\n",
       "      <th>boat</th>\n",
       "      <th>body</th>\n",
       "      <th>home.dest</th>\n",
       "    </tr>\n",
       "  </thead>\n",
       "  <tbody>\n",
       "    <tr>\n",
       "      <th>0</th>\n",
       "      <td>1</td>\n",
       "      <td>1</td>\n",
       "      <td>Allen, Miss. Elisabeth Walton</td>\n",
       "      <td>female</td>\n",
       "      <td>29</td>\n",
       "      <td>0</td>\n",
       "      <td>0</td>\n",
       "      <td>24160</td>\n",
       "      <td>211.3375</td>\n",
       "      <td>B5</td>\n",
       "      <td>S</td>\n",
       "      <td>2</td>\n",
       "      <td>?</td>\n",
       "      <td>St Louis, MO</td>\n",
       "    </tr>\n",
       "    <tr>\n",
       "      <th>1</th>\n",
       "      <td>1</td>\n",
       "      <td>1</td>\n",
       "      <td>Allison, Master. Hudson Trevor</td>\n",
       "      <td>male</td>\n",
       "      <td>0.9167</td>\n",
       "      <td>1</td>\n",
       "      <td>2</td>\n",
       "      <td>113781</td>\n",
       "      <td>151.55</td>\n",
       "      <td>C22 C26</td>\n",
       "      <td>S</td>\n",
       "      <td>11</td>\n",
       "      <td>?</td>\n",
       "      <td>Montreal, PQ / Chesterville, ON</td>\n",
       "    </tr>\n",
       "    <tr>\n",
       "      <th>2</th>\n",
       "      <td>1</td>\n",
       "      <td>0</td>\n",
       "      <td>Allison, Miss. Helen Loraine</td>\n",
       "      <td>female</td>\n",
       "      <td>2</td>\n",
       "      <td>1</td>\n",
       "      <td>2</td>\n",
       "      <td>113781</td>\n",
       "      <td>151.55</td>\n",
       "      <td>C22 C26</td>\n",
       "      <td>S</td>\n",
       "      <td>?</td>\n",
       "      <td>?</td>\n",
       "      <td>Montreal, PQ / Chesterville, ON</td>\n",
       "    </tr>\n",
       "    <tr>\n",
       "      <th>3</th>\n",
       "      <td>1</td>\n",
       "      <td>0</td>\n",
       "      <td>Allison, Mr. Hudson Joshua Creighton</td>\n",
       "      <td>male</td>\n",
       "      <td>30</td>\n",
       "      <td>1</td>\n",
       "      <td>2</td>\n",
       "      <td>113781</td>\n",
       "      <td>151.55</td>\n",
       "      <td>C22 C26</td>\n",
       "      <td>S</td>\n",
       "      <td>?</td>\n",
       "      <td>135</td>\n",
       "      <td>Montreal, PQ / Chesterville, ON</td>\n",
       "    </tr>\n",
       "    <tr>\n",
       "      <th>4</th>\n",
       "      <td>1</td>\n",
       "      <td>0</td>\n",
       "      <td>Allison, Mrs. Hudson J C (Bessie Waldo Daniels)</td>\n",
       "      <td>female</td>\n",
       "      <td>25</td>\n",
       "      <td>1</td>\n",
       "      <td>2</td>\n",
       "      <td>113781</td>\n",
       "      <td>151.55</td>\n",
       "      <td>C22 C26</td>\n",
       "      <td>S</td>\n",
       "      <td>?</td>\n",
       "      <td>?</td>\n",
       "      <td>Montreal, PQ / Chesterville, ON</td>\n",
       "    </tr>\n",
       "  </tbody>\n",
       "</table>\n",
       "</div>"
      ],
      "text/plain": [
       "   pclass  survived                                             name     sex  \\\n",
       "0       1         1                    Allen, Miss. Elisabeth Walton  female   \n",
       "1       1         1                   Allison, Master. Hudson Trevor    male   \n",
       "2       1         0                     Allison, Miss. Helen Loraine  female   \n",
       "3       1         0             Allison, Mr. Hudson Joshua Creighton    male   \n",
       "4       1         0  Allison, Mrs. Hudson J C (Bessie Waldo Daniels)  female   \n",
       "\n",
       "      age  sibsp  parch  ticket      fare    cabin embarked boat body  \\\n",
       "0      29      0      0   24160  211.3375       B5        S    2    ?   \n",
       "1  0.9167      1      2  113781    151.55  C22 C26        S   11    ?   \n",
       "2       2      1      2  113781    151.55  C22 C26        S    ?    ?   \n",
       "3      30      1      2  113781    151.55  C22 C26        S    ?  135   \n",
       "4      25      1      2  113781    151.55  C22 C26        S    ?    ?   \n",
       "\n",
       "                         home.dest  \n",
       "0                     St Louis, MO  \n",
       "1  Montreal, PQ / Chesterville, ON  \n",
       "2  Montreal, PQ / Chesterville, ON  \n",
       "3  Montreal, PQ / Chesterville, ON  \n",
       "4  Montreal, PQ / Chesterville, ON  "
      ]
     },
     "execution_count": 5,
     "metadata": {},
     "output_type": "execute_result"
    }
   ],
   "source": [
    "titanic.head()"
   ]
  },
  {
   "cell_type": "code",
   "execution_count": 7,
   "id": "fe83037e",
   "metadata": {},
   "outputs": [
    {
     "data": {
      "text/plain": [
       "0                         Allen, Miss. Elisabeth Walton\n",
       "1                        Allison, Master. Hudson Trevor\n",
       "2                          Allison, Miss. Helen Loraine\n",
       "3                  Allison, Mr. Hudson Joshua Creighton\n",
       "4       Allison, Mrs. Hudson J C (Bessie Waldo Daniels)\n",
       "                             ...                       \n",
       "1304                               Zabour, Miss. Hileni\n",
       "1305                              Zabour, Miss. Thamine\n",
       "1306                          Zakarian, Mr. Mapriededer\n",
       "1307                                Zakarian, Mr. Ortin\n",
       "1308                                 Zimmerman, Mr. Leo\n",
       "Name: name, Length: 1309, dtype: object"
      ]
     },
     "execution_count": 7,
     "metadata": {},
     "output_type": "execute_result"
    }
   ],
   "source": [
    "titanic[\"name\"]"
   ]
  },
  {
   "cell_type": "code",
   "execution_count": 10,
   "id": "e2660cf4",
   "metadata": {},
   "outputs": [
    {
     "data": {
      "text/plain": [
       "0                         Allen, Miss. Elisabeth Walton\n",
       "1                        Allison, Master. Hudson Trevor\n",
       "2                          Allison, Miss. Helen Loraine\n",
       "3                  Allison, Mr. Hudson Joshua Creighton\n",
       "4       Allison, Mrs. Hudson J C (Bessie Waldo Daniels)\n",
       "                             ...                       \n",
       "1304                               Zabour, Miss. Hileni\n",
       "1305                              Zabour, Miss. Thamine\n",
       "1306                          Zakarian, Mr. Mapriededer\n",
       "1307                                Zakarian, Mr. Ortin\n",
       "1308                                 Zimmerman, Mr. Leo\n",
       "Name: name, Length: 1309, dtype: object"
      ]
     },
     "execution_count": 10,
     "metadata": {},
     "output_type": "execute_result"
    }
   ],
   "source": [
    "titanic.name"
   ]
  },
  {
   "cell_type": "code",
   "execution_count": 13,
   "id": "06b75360",
   "metadata": {},
   "outputs": [
    {
     "data": {
      "text/plain": [
       "id               9.899406e+13\n",
       "price            1.167293e+10\n",
       "bedrooms         7.285400e+04\n",
       "bathrooms        4.570625e+04\n",
       "sqft_living      4.495287e+07\n",
       "sqft_lot         3.265069e+08\n",
       "floors           3.229650e+04\n",
       "waterfront       1.630000e+02\n",
       "view             5.064000e+03\n",
       "condition        7.368800e+04\n",
       "grade            1.654880e+05\n",
       "sqft_above       3.865249e+07\n",
       "sqft_basement    6.300385e+06\n",
       "yr_built         4.259933e+07\n",
       "yr_renovated     1.824186e+06\n",
       "zipcode          2.119759e+09\n",
       "lat              1.027915e+06\n",
       "long            -2.641409e+06\n",
       "sqft_living15    4.293536e+07\n",
       "sqft_lot15       2.759646e+08\n",
       "dtype: float64"
      ]
     },
     "execution_count": 13,
     "metadata": {},
     "output_type": "execute_result"
    }
   ],
   "source": [
    "houses.sum(numeric_only=True)"
   ]
  },
  {
   "cell_type": "code",
   "execution_count": 14,
   "id": "3e51f80b",
   "metadata": {},
   "outputs": [
    {
     "data": {
      "text/plain": [
       "11672925008.0"
      ]
     },
     "execution_count": 14,
     "metadata": {},
     "output_type": "execute_result"
    }
   ],
   "source": [
    "houses[\"price\"].sum()"
   ]
  },
  {
   "cell_type": "code",
   "execution_count": 3,
   "id": "59ab4dc7",
   "metadata": {},
   "outputs": [
    {
     "data": {
      "text/plain": [
       "count    2.161300e+04\n",
       "mean     5.400881e+05\n",
       "std      3.671272e+05\n",
       "min      7.500000e+04\n",
       "25%      3.219500e+05\n",
       "50%      4.500000e+05\n",
       "75%      6.450000e+05\n",
       "max      7.700000e+06\n",
       "Name: price, dtype: float64"
      ]
     },
     "execution_count": 3,
     "metadata": {},
     "output_type": "execute_result"
    }
   ],
   "source": [
    "houses[\"price\"].describe()"
   ]
  },
  {
   "cell_type": "code",
   "execution_count": 2,
   "id": "6da6d27d",
   "metadata": {},
   "outputs": [
    {
     "ename": "AttributeError",
     "evalue": "'DataFrame' object has no attribute 'unique'",
     "output_type": "error",
     "traceback": [
      "\u001b[1;31m---------------------------------------------------------------------------\u001b[0m",
      "\u001b[1;31mAttributeError\u001b[0m                            Traceback (most recent call last)",
      "\u001b[1;32m~\\AppData\\Local\\Temp\\ipykernel_13816\\433816080.py\u001b[0m in \u001b[0;36m?\u001b[1;34m()\u001b[0m\n\u001b[1;32m----> 1\u001b[1;33m \u001b[0mhouses\u001b[0m\u001b[1;33m.\u001b[0m\u001b[0munique\u001b[0m\u001b[1;33m(\u001b[0m\u001b[1;34m\"bedrooms\"\u001b[0m\u001b[1;33m)\u001b[0m\u001b[1;33m\u001b[0m\u001b[1;33m\u001b[0m\u001b[0m\n\u001b[0m",
      "\u001b[1;32m~\\anaconda3\\Lib\\site-packages\\pandas\\core\\generic.py\u001b[0m in \u001b[0;36m?\u001b[1;34m(self, name)\u001b[0m\n\u001b[0;32m   5985\u001b[0m             \u001b[1;32mand\u001b[0m \u001b[0mname\u001b[0m \u001b[1;32mnot\u001b[0m \u001b[1;32min\u001b[0m \u001b[0mself\u001b[0m\u001b[1;33m.\u001b[0m\u001b[0m_accessors\u001b[0m\u001b[1;33m\u001b[0m\u001b[1;33m\u001b[0m\u001b[0m\n\u001b[0;32m   5986\u001b[0m             \u001b[1;32mand\u001b[0m \u001b[0mself\u001b[0m\u001b[1;33m.\u001b[0m\u001b[0m_info_axis\u001b[0m\u001b[1;33m.\u001b[0m\u001b[0m_can_hold_identifiers_and_holds_name\u001b[0m\u001b[1;33m(\u001b[0m\u001b[0mname\u001b[0m\u001b[1;33m)\u001b[0m\u001b[1;33m\u001b[0m\u001b[1;33m\u001b[0m\u001b[0m\n\u001b[0;32m   5987\u001b[0m         ):\n\u001b[0;32m   5988\u001b[0m             \u001b[1;32mreturn\u001b[0m \u001b[0mself\u001b[0m\u001b[1;33m[\u001b[0m\u001b[0mname\u001b[0m\u001b[1;33m]\u001b[0m\u001b[1;33m\u001b[0m\u001b[1;33m\u001b[0m\u001b[0m\n\u001b[1;32m-> 5989\u001b[1;33m         \u001b[1;32mreturn\u001b[0m \u001b[0mobject\u001b[0m\u001b[1;33m.\u001b[0m\u001b[0m__getattribute__\u001b[0m\u001b[1;33m(\u001b[0m\u001b[0mself\u001b[0m\u001b[1;33m,\u001b[0m \u001b[0mname\u001b[0m\u001b[1;33m)\u001b[0m\u001b[1;33m\u001b[0m\u001b[1;33m\u001b[0m\u001b[0m\n\u001b[0m",
      "\u001b[1;31mAttributeError\u001b[0m: 'DataFrame' object has no attribute 'unique'"
     ]
    }
   ],
   "source": [
    "houses[\"bedrooms\"].unique()"
   ]
  },
  {
   "cell_type": "code",
   "execution_count": 5,
   "id": "1d74a690",
   "metadata": {},
   "outputs": [
    {
     "data": {
      "text/plain": [
       "13"
      ]
     },
     "execution_count": 5,
     "metadata": {},
     "output_type": "execute_result"
    }
   ],
   "source": [
    "houses[\"bedrooms\"].nunique()"
   ]
  },
  {
   "cell_type": "code",
   "execution_count": 6,
   "id": "dcb4ed29",
   "metadata": {},
   "outputs": [
    {
     "data": {
      "text/plain": [
       "7252    7700000.0\n",
       "3914    7062500.0\n",
       "9254    6885000.0\n",
       "4411    5570000.0\n",
       "1448    5350000.0\n",
       "Name: price, dtype: float64"
      ]
     },
     "execution_count": 6,
     "metadata": {},
     "output_type": "execute_result"
    }
   ],
   "source": [
    "houses.price.nlargest()"
   ]
  },
  {
   "cell_type": "code",
   "execution_count": 10,
   "id": "f9072310",
   "metadata": {},
   "outputs": [
    {
     "data": {
      "text/html": [
       "<div>\n",
       "<style scoped>\n",
       "    .dataframe tbody tr th:only-of-type {\n",
       "        vertical-align: middle;\n",
       "    }\n",
       "\n",
       "    .dataframe tbody tr th {\n",
       "        vertical-align: top;\n",
       "    }\n",
       "\n",
       "    .dataframe thead th {\n",
       "        text-align: right;\n",
       "    }\n",
       "</style>\n",
       "<table border=\"1\" class=\"dataframe\">\n",
       "  <thead>\n",
       "    <tr style=\"text-align: right;\">\n",
       "      <th></th>\n",
       "      <th>id</th>\n",
       "      <th>date</th>\n",
       "      <th>price</th>\n",
       "      <th>bedrooms</th>\n",
       "      <th>bathrooms</th>\n",
       "      <th>sqft_living</th>\n",
       "      <th>sqft_lot</th>\n",
       "      <th>floors</th>\n",
       "      <th>waterfront</th>\n",
       "      <th>view</th>\n",
       "      <th>...</th>\n",
       "      <th>grade</th>\n",
       "      <th>sqft_above</th>\n",
       "      <th>sqft_basement</th>\n",
       "      <th>yr_built</th>\n",
       "      <th>yr_renovated</th>\n",
       "      <th>zipcode</th>\n",
       "      <th>lat</th>\n",
       "      <th>long</th>\n",
       "      <th>sqft_living15</th>\n",
       "      <th>sqft_lot15</th>\n",
       "    </tr>\n",
       "  </thead>\n",
       "  <tbody>\n",
       "    <tr>\n",
       "      <th>7252</th>\n",
       "      <td>6762700020</td>\n",
       "      <td>20141013T000000</td>\n",
       "      <td>7700000.0</td>\n",
       "      <td>6</td>\n",
       "      <td>8.00</td>\n",
       "      <td>12050</td>\n",
       "      <td>27600</td>\n",
       "      <td>2.5</td>\n",
       "      <td>0</td>\n",
       "      <td>3</td>\n",
       "      <td>...</td>\n",
       "      <td>13</td>\n",
       "      <td>8570</td>\n",
       "      <td>3480</td>\n",
       "      <td>1910</td>\n",
       "      <td>1987</td>\n",
       "      <td>98102</td>\n",
       "      <td>47.6298</td>\n",
       "      <td>-122.323</td>\n",
       "      <td>3940</td>\n",
       "      <td>8800</td>\n",
       "    </tr>\n",
       "    <tr>\n",
       "      <th>3914</th>\n",
       "      <td>9808700762</td>\n",
       "      <td>20140611T000000</td>\n",
       "      <td>7062500.0</td>\n",
       "      <td>5</td>\n",
       "      <td>4.50</td>\n",
       "      <td>10040</td>\n",
       "      <td>37325</td>\n",
       "      <td>2.0</td>\n",
       "      <td>1</td>\n",
       "      <td>2</td>\n",
       "      <td>...</td>\n",
       "      <td>11</td>\n",
       "      <td>7680</td>\n",
       "      <td>2360</td>\n",
       "      <td>1940</td>\n",
       "      <td>2001</td>\n",
       "      <td>98004</td>\n",
       "      <td>47.6500</td>\n",
       "      <td>-122.214</td>\n",
       "      <td>3930</td>\n",
       "      <td>25449</td>\n",
       "    </tr>\n",
       "    <tr>\n",
       "      <th>9254</th>\n",
       "      <td>9208900037</td>\n",
       "      <td>20140919T000000</td>\n",
       "      <td>6885000.0</td>\n",
       "      <td>6</td>\n",
       "      <td>7.75</td>\n",
       "      <td>9890</td>\n",
       "      <td>31374</td>\n",
       "      <td>2.0</td>\n",
       "      <td>0</td>\n",
       "      <td>4</td>\n",
       "      <td>...</td>\n",
       "      <td>13</td>\n",
       "      <td>8860</td>\n",
       "      <td>1030</td>\n",
       "      <td>2001</td>\n",
       "      <td>0</td>\n",
       "      <td>98039</td>\n",
       "      <td>47.6305</td>\n",
       "      <td>-122.240</td>\n",
       "      <td>4540</td>\n",
       "      <td>42730</td>\n",
       "    </tr>\n",
       "    <tr>\n",
       "      <th>4411</th>\n",
       "      <td>2470100110</td>\n",
       "      <td>20140804T000000</td>\n",
       "      <td>5570000.0</td>\n",
       "      <td>5</td>\n",
       "      <td>5.75</td>\n",
       "      <td>9200</td>\n",
       "      <td>35069</td>\n",
       "      <td>2.0</td>\n",
       "      <td>0</td>\n",
       "      <td>0</td>\n",
       "      <td>...</td>\n",
       "      <td>13</td>\n",
       "      <td>6200</td>\n",
       "      <td>3000</td>\n",
       "      <td>2001</td>\n",
       "      <td>0</td>\n",
       "      <td>98039</td>\n",
       "      <td>47.6289</td>\n",
       "      <td>-122.233</td>\n",
       "      <td>3560</td>\n",
       "      <td>24345</td>\n",
       "    </tr>\n",
       "    <tr>\n",
       "      <th>1448</th>\n",
       "      <td>8907500070</td>\n",
       "      <td>20150413T000000</td>\n",
       "      <td>5350000.0</td>\n",
       "      <td>5</td>\n",
       "      <td>5.00</td>\n",
       "      <td>8000</td>\n",
       "      <td>23985</td>\n",
       "      <td>2.0</td>\n",
       "      <td>0</td>\n",
       "      <td>4</td>\n",
       "      <td>...</td>\n",
       "      <td>12</td>\n",
       "      <td>6720</td>\n",
       "      <td>1280</td>\n",
       "      <td>2009</td>\n",
       "      <td>0</td>\n",
       "      <td>98004</td>\n",
       "      <td>47.6232</td>\n",
       "      <td>-122.220</td>\n",
       "      <td>4600</td>\n",
       "      <td>21750</td>\n",
       "    </tr>\n",
       "    <tr>\n",
       "      <th>1315</th>\n",
       "      <td>7558700030</td>\n",
       "      <td>20150413T000000</td>\n",
       "      <td>5300000.0</td>\n",
       "      <td>6</td>\n",
       "      <td>6.00</td>\n",
       "      <td>7390</td>\n",
       "      <td>24829</td>\n",
       "      <td>2.0</td>\n",
       "      <td>1</td>\n",
       "      <td>4</td>\n",
       "      <td>...</td>\n",
       "      <td>12</td>\n",
       "      <td>5000</td>\n",
       "      <td>2390</td>\n",
       "      <td>1991</td>\n",
       "      <td>0</td>\n",
       "      <td>98040</td>\n",
       "      <td>47.5631</td>\n",
       "      <td>-122.210</td>\n",
       "      <td>4320</td>\n",
       "      <td>24619</td>\n",
       "    </tr>\n",
       "    <tr>\n",
       "      <th>1164</th>\n",
       "      <td>1247600105</td>\n",
       "      <td>20141020T000000</td>\n",
       "      <td>5110800.0</td>\n",
       "      <td>5</td>\n",
       "      <td>5.25</td>\n",
       "      <td>8010</td>\n",
       "      <td>45517</td>\n",
       "      <td>2.0</td>\n",
       "      <td>1</td>\n",
       "      <td>4</td>\n",
       "      <td>...</td>\n",
       "      <td>12</td>\n",
       "      <td>5990</td>\n",
       "      <td>2020</td>\n",
       "      <td>1999</td>\n",
       "      <td>0</td>\n",
       "      <td>98033</td>\n",
       "      <td>47.6767</td>\n",
       "      <td>-122.211</td>\n",
       "      <td>3430</td>\n",
       "      <td>26788</td>\n",
       "    </tr>\n",
       "    <tr>\n",
       "      <th>8092</th>\n",
       "      <td>1924059029</td>\n",
       "      <td>20140617T000000</td>\n",
       "      <td>4668000.0</td>\n",
       "      <td>5</td>\n",
       "      <td>6.75</td>\n",
       "      <td>9640</td>\n",
       "      <td>13068</td>\n",
       "      <td>1.0</td>\n",
       "      <td>1</td>\n",
       "      <td>4</td>\n",
       "      <td>...</td>\n",
       "      <td>12</td>\n",
       "      <td>4820</td>\n",
       "      <td>4820</td>\n",
       "      <td>1983</td>\n",
       "      <td>2009</td>\n",
       "      <td>98040</td>\n",
       "      <td>47.5570</td>\n",
       "      <td>-122.210</td>\n",
       "      <td>3270</td>\n",
       "      <td>10454</td>\n",
       "    </tr>\n",
       "    <tr>\n",
       "      <th>2626</th>\n",
       "      <td>7738500731</td>\n",
       "      <td>20140815T000000</td>\n",
       "      <td>4500000.0</td>\n",
       "      <td>5</td>\n",
       "      <td>5.50</td>\n",
       "      <td>6640</td>\n",
       "      <td>40014</td>\n",
       "      <td>2.0</td>\n",
       "      <td>1</td>\n",
       "      <td>4</td>\n",
       "      <td>...</td>\n",
       "      <td>12</td>\n",
       "      <td>6350</td>\n",
       "      <td>290</td>\n",
       "      <td>2004</td>\n",
       "      <td>0</td>\n",
       "      <td>98155</td>\n",
       "      <td>47.7493</td>\n",
       "      <td>-122.280</td>\n",
       "      <td>3030</td>\n",
       "      <td>23408</td>\n",
       "    </tr>\n",
       "    <tr>\n",
       "      <th>8638</th>\n",
       "      <td>3835500195</td>\n",
       "      <td>20140618T000000</td>\n",
       "      <td>4489000.0</td>\n",
       "      <td>4</td>\n",
       "      <td>3.00</td>\n",
       "      <td>6430</td>\n",
       "      <td>27517</td>\n",
       "      <td>2.0</td>\n",
       "      <td>0</td>\n",
       "      <td>0</td>\n",
       "      <td>...</td>\n",
       "      <td>12</td>\n",
       "      <td>6430</td>\n",
       "      <td>0</td>\n",
       "      <td>2001</td>\n",
       "      <td>0</td>\n",
       "      <td>98004</td>\n",
       "      <td>47.6208</td>\n",
       "      <td>-122.219</td>\n",
       "      <td>3720</td>\n",
       "      <td>14592</td>\n",
       "    </tr>\n",
       "  </tbody>\n",
       "</table>\n",
       "<p>10 rows × 21 columns</p>\n",
       "</div>"
      ],
      "text/plain": [
       "              id             date      price  bedrooms  bathrooms  \\\n",
       "7252  6762700020  20141013T000000  7700000.0         6       8.00   \n",
       "3914  9808700762  20140611T000000  7062500.0         5       4.50   \n",
       "9254  9208900037  20140919T000000  6885000.0         6       7.75   \n",
       "4411  2470100110  20140804T000000  5570000.0         5       5.75   \n",
       "1448  8907500070  20150413T000000  5350000.0         5       5.00   \n",
       "1315  7558700030  20150413T000000  5300000.0         6       6.00   \n",
       "1164  1247600105  20141020T000000  5110800.0         5       5.25   \n",
       "8092  1924059029  20140617T000000  4668000.0         5       6.75   \n",
       "2626  7738500731  20140815T000000  4500000.0         5       5.50   \n",
       "8638  3835500195  20140618T000000  4489000.0         4       3.00   \n",
       "\n",
       "      sqft_living  sqft_lot  floors  waterfront  view  ...  grade  sqft_above  \\\n",
       "7252        12050     27600     2.5           0     3  ...     13        8570   \n",
       "3914        10040     37325     2.0           1     2  ...     11        7680   \n",
       "9254         9890     31374     2.0           0     4  ...     13        8860   \n",
       "4411         9200     35069     2.0           0     0  ...     13        6200   \n",
       "1448         8000     23985     2.0           0     4  ...     12        6720   \n",
       "1315         7390     24829     2.0           1     4  ...     12        5000   \n",
       "1164         8010     45517     2.0           1     4  ...     12        5990   \n",
       "8092         9640     13068     1.0           1     4  ...     12        4820   \n",
       "2626         6640     40014     2.0           1     4  ...     12        6350   \n",
       "8638         6430     27517     2.0           0     0  ...     12        6430   \n",
       "\n",
       "      sqft_basement  yr_built  yr_renovated  zipcode      lat     long  \\\n",
       "7252           3480      1910          1987    98102  47.6298 -122.323   \n",
       "3914           2360      1940          2001    98004  47.6500 -122.214   \n",
       "9254           1030      2001             0    98039  47.6305 -122.240   \n",
       "4411           3000      2001             0    98039  47.6289 -122.233   \n",
       "1448           1280      2009             0    98004  47.6232 -122.220   \n",
       "1315           2390      1991             0    98040  47.5631 -122.210   \n",
       "1164           2020      1999             0    98033  47.6767 -122.211   \n",
       "8092           4820      1983          2009    98040  47.5570 -122.210   \n",
       "2626            290      2004             0    98155  47.7493 -122.280   \n",
       "8638              0      2001             0    98004  47.6208 -122.219   \n",
       "\n",
       "      sqft_living15  sqft_lot15  \n",
       "7252           3940        8800  \n",
       "3914           3930       25449  \n",
       "9254           4540       42730  \n",
       "4411           3560       24345  \n",
       "1448           4600       21750  \n",
       "1315           4320       24619  \n",
       "1164           3430       26788  \n",
       "8092           3270       10454  \n",
       "2626           3030       23408  \n",
       "8638           3720       14592  \n",
       "\n",
       "[10 rows x 21 columns]"
      ]
     },
     "execution_count": 10,
     "metadata": {},
     "output_type": "execute_result"
    }
   ],
   "source": [
    "houses.nlargest(10, [\"price\"])"
   ]
  },
  {
   "cell_type": "code",
   "execution_count": 7,
   "id": "c20b5dfb",
   "metadata": {},
   "outputs": [
    {
     "data": {
      "text/plain": [
       "7252    7700000.0\n",
       "3914    7062500.0\n",
       "9254    6885000.0\n",
       "4411    5570000.0\n",
       "1448    5350000.0\n",
       "1315    5300000.0\n",
       "1164    5110800.0\n",
       "8092    4668000.0\n",
       "2626    4500000.0\n",
       "Name: price, dtype: float64"
      ]
     },
     "execution_count": 7,
     "metadata": {},
     "output_type": "execute_result"
    }
   ],
   "source": [
    "houses.price.nlargest(9)"
   ]
  },
  {
   "cell_type": "code",
   "execution_count": 8,
   "id": "051e8ba4",
   "metadata": {},
   "outputs": [
    {
     "data": {
      "text/plain": [
       "1149     75000.0\n",
       "15293    78000.0\n",
       "465      80000.0\n",
       "16198    81000.0\n",
       "8274     82000.0\n",
       "Name: price, dtype: float64"
      ]
     },
     "execution_count": 8,
     "metadata": {},
     "output_type": "execute_result"
    }
   ],
   "source": [
    "houses.price.nsmallest()"
   ]
  },
  {
   "cell_type": "code",
   "execution_count": 9,
   "id": "36a49627",
   "metadata": {},
   "outputs": [
    {
     "data": {
      "text/plain": [
       "1149     75000.0\n",
       "15293    78000.0\n",
       "Name: price, dtype: float64"
      ]
     },
     "execution_count": 9,
     "metadata": {},
     "output_type": "execute_result"
    }
   ],
   "source": [
    "houses.price.nsmallest(2)"
   ]
  },
  {
   "cell_type": "code",
   "execution_count": 3,
   "id": "9a14dbf2",
   "metadata": {},
   "outputs": [
    {
     "data": {
      "text/plain": [
       "sex\n",
       "male      843\n",
       "female    466\n",
       "Name: count, dtype: int64"
      ]
     },
     "execution_count": 3,
     "metadata": {},
     "output_type": "execute_result"
    }
   ],
   "source": [
    "titanic[\"sex\"].value_counts()"
   ]
  },
  {
   "cell_type": "code",
   "execution_count": 4,
   "id": "f8dd9b5d",
   "metadata": {},
   "outputs": [
    {
     "data": {
      "text/plain": [
       "bedrooms  bathrooms\n",
       "4         2.50         2502\n",
       "3         2.50         2357\n",
       "          1.75         1870\n",
       "          1.00         1780\n",
       "2         1.00         1558\n",
       "                       ... \n",
       "7         1.00            1\n",
       "          3.25            1\n",
       "          5.50            1\n",
       "          5.75            1\n",
       "33        1.75            1\n",
       "Name: count, Length: 144, dtype: int64"
      ]
     },
     "execution_count": 4,
     "metadata": {},
     "output_type": "execute_result"
    }
   ],
   "source": [
    "houses[[\"bedrooms\",\"bathrooms\"]].value_counts()"
   ]
  },
  {
   "cell_type": "markdown",
   "id": "4c2cf807",
   "metadata": {},
   "source": [
    "## Pandas Plot"
   ]
  },
  {
   "cell_type": "code",
   "execution_count": 9,
   "id": "f6ea09f8",
   "metadata": {},
   "outputs": [
    {
     "data": {
      "text/plain": [
       "<Axes: xlabel='bedrooms,bathrooms'>"
      ]
     },
     "execution_count": 9,
     "metadata": {},
     "output_type": "execute_result"
    },
    {
     "data": {
      "image/png": "[encoded data removed]",
      "text/plain": [
       "<Figure size 640x480 with 1 Axes>"
      ]
     },
     "metadata": {},
     "output_type": "display_data"
    }
   ],
   "source": [
    "houses[[\"bedrooms\",\"bathrooms\"]].value_counts().head(20).plot(kind=\"bar\")"
   ]
  },
  {
   "cell_type": "code",
   "execution_count": 17,
   "id": "030a02c7",
   "metadata": {},
   "outputs": [
    {
     "data": {
      "text/plain": [
       "<Axes: ylabel='count'>"
      ]
     },
     "execution_count": 17,
     "metadata": {},
     "output_type": "execute_result"
    },
    {
     "data": {
      "image/png": "[encoded data removed]",
      "text/plain": [
       "<Figure size 640x480 with 1 Axes>"
      ]
     },
     "metadata": {},
     "output_type": "display_data"
    }
   ],
   "source": [
    "houses[[\"bedrooms\",\"bathrooms\"]].value_counts().head(10).plot(kind=\"pie\")"
   ]
  }
 ],
 "metadata": {
  "kernelspec": {
   "display_name": "Python 3 (ipykernel)",
   "language": "python",
   "name": "python3"
  },
  "language_info": {
   "codemirror_mode": {
    "name": "ipython",
    "version": 3
   },
   "file_extension": ".py",
   "mimetype": "text/x-python",
   "name": "python",
   "nbconvert_exporter": "python",
   "pygments_lexer": "ipython3",
   "version": "3.11.5"
  }
 },
 "nbformat": 4,
 "nbformat_minor": 5
}
